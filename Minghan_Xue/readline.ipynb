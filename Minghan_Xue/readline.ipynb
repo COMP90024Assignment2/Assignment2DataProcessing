{
 "cells": [
  {
   "cell_type": "code",
   "execution_count": 1,
   "id": "11f6cad3",
   "metadata": {},
   "outputs": [],
   "source": [
    "import json\n",
    "\n",
    "input_file = 'D:/Twitter data/twitter-huge.json'\n",
    "output_file = 'small_json_file.json'\n",
    "max_items = 5000\n",
    "\n",
    "with open(input_file, 'r', encoding='utf-8') as f_in, open(output_file, 'w', encoding='utf-8') as f_out:\n",
    "    for index in range(max_items):\n",
    "        line = f_in.readline()\n",
    "\n",
    "        if not line:\n",
    "            break  # 读取结束或数据不足5000条时跳出循环\n",
    "\n",
    "        f_out.write(line)"
   ]
  },
  {
   "cell_type": "code",
   "execution_count": 2,
   "id": "c533ba48",
   "metadata": {},
   "outputs": [],
   "source": [
    "input_file = 'D:/Twitter data/twitter-huge.json'\n",
    "output_file = 'small_json_file.json'\n",
    "max_items = 50000\n",
    "\n",
    "with open(input_file, 'r', encoding='utf-8') as f_in, open(output_file, 'w', encoding='utf-8') as f_out:\n",
    "    for index in range(max_items):\n",
    "        line = f_in.readline()\n",
    "\n",
    "        if not line:\n",
    "            break  # 读取结束或数据不足5000条时跳出循环\n",
    "\n",
    "        f_out.write(line)"
   ]
  }
 ],
 "metadata": {
  "kernelspec": {
   "display_name": "Python 3",
   "language": "python",
   "name": "python3"
  },
  "language_info": {
   "codemirror_mode": {
    "name": "ipython",
    "version": 3
   },
   "file_extension": ".py",
   "mimetype": "text/x-python",
   "name": "python",
   "nbconvert_exporter": "python",
   "pygments_lexer": "ipython3",
   "version": "3.8.8"
  }
 },
 "nbformat": 4,
 "nbformat_minor": 5
}
